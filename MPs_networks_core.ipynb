{
 "cells": [
  {
   "cell_type": "code",
   "execution_count": 174,
   "metadata": {
    "collapsed": false
   },
   "outputs": [],
   "source": [
    "import networkx as nx\n",
    "from networkx.algorithms import bipartite\n",
    "import numpy as np\n",
    "import math\n",
    "import random\n",
    "import matplotlib.pyplot as plt\n",
    "import xlwt\n",
    "import csv\n",
    "import itertools\n",
    "from itertools import izip_longest\n",
    "import collections\n",
    "from collections import defaultdict\n",
    "import psycopg2 as pg\n",
    "import time\n",
    "#import powerlaw\n",
    "import pandas as pd\n",
    "import operator"
   ]
  },
  {
   "cell_type": "code",
   "execution_count": 95,
   "metadata": {
    "collapsed": false
   },
   "outputs": [],
   "source": [
    "df = pd.read_csv('wordproportionsOrdered30.csv')"
   ]
  },
  {
   "cell_type": "code",
   "execution_count": 96,
   "metadata": {
    "collapsed": false
   },
   "outputs": [],
   "source": [
    "MPfiles = df['Files'].values.tolist()"
   ]
  },
  {
   "cell_type": "code",
   "execution_count": 97,
   "metadata": {
    "collapsed": false
   },
   "outputs": [
    {
     "name": "stdout",
     "output_type": "stream",
     "text": [
      "2097\n"
     ]
    }
   ],
   "source": [
    "print len(MPfiles)"
   ]
  },
  {
   "cell_type": "code",
   "execution_count": 98,
   "metadata": {
    "collapsed": false
   },
   "outputs": [
    {
     "name": "stdout",
     "output_type": "stream",
     "text": [
      "file:/home/dvasques/softwares/mallet/hansard/speech-data-2/adams-amy/49-2009.txt\n"
     ]
    }
   ],
   "source": [
    "print MPfiles[0]"
   ]
  },
  {
   "cell_type": "code",
   "execution_count": 99,
   "metadata": {
    "collapsed": true
   },
   "outputs": [],
   "source": [
    "#function to find positioning of forward bar (to get only the mp name)\n",
    "def dash_positions(url):\n",
    "    \n",
    "    s = url\n",
    "    c = '/'\n",
    "    positions = [pos for pos, char in enumerate(s) if char == c]\n",
    "    #print speech_urls[205][0].index('-')\n",
    "    \n",
    "    return positions"
   ]
  },
  {
   "cell_type": "code",
   "execution_count": 100,
   "metadata": {
    "collapsed": false
   },
   "outputs": [],
   "source": [
    "def get_mp(MPfiles):\n",
    "    \n",
    "    mps = []\n",
    "    \n",
    "    for i in range(len(MPfiles)):\n",
    "        \n",
    "        positions = dash_positions(MPfiles[i])\n",
    "\n",
    "        mp_name = MPfiles[i][positions[6]+1:positions[7]] #string\n",
    "        mps.append(mp_name)\n",
    "        \n",
    "    return mps"
   ]
  },
  {
   "cell_type": "code",
   "execution_count": 193,
   "metadata": {
    "collapsed": true
   },
   "outputs": [],
   "source": [
    "def get_years(MPfiles):\n",
    "    \n",
    "    years = []\n",
    "    \n",
    "    for i in range (len(MPfiles)):\n",
    "        \n",
    "        positions = dash_positions(MPfiles[i])\n",
    "        \n",
    "        year = MPfiles[i][positions[7]+4:positions[7]+8] #string\n",
    "        years.append(year)\n",
    "        \n",
    "    return years"
   ]
  },
  {
   "cell_type": "code",
   "execution_count": 214,
   "metadata": {
    "collapsed": true
   },
   "outputs": [],
   "source": [
    "def get_terms(MPfiles):\n",
    "    \n",
    "    terms = []\n",
    "    \n",
    "    for i in range (len(MPfiles)):\n",
    "        \n",
    "        positions = dash_positions(MPfiles[i])\n",
    "        \n",
    "        term = MPfiles[i][positions[7]+1:positions[7]+3] #string\n",
    "        terms.append(term)\n",
    "        \n",
    "    return terms"
   ]
  },
  {
   "cell_type": "code",
   "execution_count": 216,
   "metadata": {
    "collapsed": false
   },
   "outputs": [
    {
     "name": "stdout",
     "output_type": "stream",
     "text": [
      "2097\n",
      "2097\n",
      "2097\n"
     ]
    }
   ],
   "source": [
    "mps = get_mp(MPfiles)\n",
    "print len(mps)\n",
    "\n",
    "years = get_years(MPfiles)\n",
    "print len(years)\n",
    "\n",
    "terms = get_terms(MPfiles)\n",
    "print len(terms)"
   ]
  },
  {
   "cell_type": "code",
   "execution_count": 102,
   "metadata": {
    "collapsed": true
   },
   "outputs": [],
   "source": [
    "topic0 = df['Topic0'].values.tolist()\n",
    "topic1 = df['Topic1'].values.tolist()\n",
    "topic2 = df['Topic2'].values.tolist()\n",
    "topic3 = df['Topic3'].values.tolist()\n",
    "topic4 = df['Topic4'].values.tolist()\n",
    "topic5 = df['Topic5'].values.tolist()\n",
    "topic6 = df['Topic6'].values.tolist()\n",
    "topic7 = df['Topic7'].values.tolist()\n",
    "topic8 = df['Topic8'].values.tolist()\n",
    "topic9 = df['Topic9'].values.tolist()\n",
    "topic10 = df['Topic10'].values.tolist()\n",
    "topic11 = df['Topic11'].values.tolist()\n",
    "topic12 = df['Topic12'].values.tolist()\n",
    "topic13 = df['Topic13'].values.tolist()\n",
    "topic14 = df['Topic14'].values.tolist()\n",
    "topic15 = df['Topic15'].values.tolist()\n",
    "topic16 = df['Topic16'].values.tolist()\n",
    "topic17 = df['Topic17'].values.tolist()\n",
    "topic18 = df['Topic18'].values.tolist()\n",
    "topic19 = df['Topic19'].values.tolist()\n",
    "topic20 = df['Topic20'].values.tolist()\n",
    "topic21 = df['Topic21'].values.tolist()\n",
    "topic22 = df['Topic22'].values.tolist()\n",
    "topic23 = df['Topic23'].values.tolist()\n",
    "topic24 = df['Topic24'].values.tolist()\n",
    "topic25 = df['Topic25'].values.tolist()\n",
    "topic26 = df['Topic26'].values.tolist()\n",
    "topic27 = df['Topic27'].values.tolist()\n",
    "topic28 = df['Topic28'].values.tolist()\n",
    "topic29 = df['Topic29'].values.tolist()"
   ]
  },
  {
   "cell_type": "code",
   "execution_count": 103,
   "metadata": {
    "collapsed": false
   },
   "outputs": [
    {
     "name": "stdout",
     "output_type": "stream",
     "text": [
      "<type 'float'>\n"
     ]
    }
   ],
   "source": [
    "print type(topic0[0])"
   ]
  },
  {
   "cell_type": "code",
   "execution_count": 218,
   "metadata": {
    "collapsed": true
   },
   "outputs": [],
   "source": [
    "df2 = pd.read_csv('countTerms.csv')"
   ]
  },
  {
   "cell_type": "code",
   "execution_count": 219,
   "metadata": {
    "collapsed": false
   },
   "outputs": [],
   "source": [
    "mp_unique = df2['Name'].values.tolist()\n",
    "party = df2['Party'].values.tolist()\n",
    "presence = df2['Presence'].values.tolist()"
   ]
  },
  {
   "cell_type": "code",
   "execution_count": 220,
   "metadata": {
    "collapsed": false
   },
   "outputs": [],
   "source": [
    "mp_party = []\n",
    "mp_presence = []\n",
    "\n",
    "for mp in mps:\n",
    "    for i in range(len(mp_unique)):\n",
    "        if mp == mp_unique[i]:\n",
    "            mp_party.append(party[i])\n",
    "            mp_presence.append(presence[i])\n",
    "            #print mp, mp_unique[i], party[i]\n",
    "            "
   ]
  },
  {
   "cell_type": "code",
   "execution_count": 221,
   "metadata": {
    "collapsed": false
   },
   "outputs": [
    {
     "name": "stdout",
     "output_type": "stream",
     "text": [
      "2097\n",
      "2097\n"
     ]
    }
   ],
   "source": [
    "print len(mp_party)\n",
    "print len(mp_presence)"
   ]
  },
  {
   "cell_type": "code",
   "execution_count": 108,
   "metadata": {
    "collapsed": false
   },
   "outputs": [],
   "source": [
    "for mp in mps:\n",
    "    if mp not in mp_unique:\n",
    "        print mp"
   ]
  },
  {
   "cell_type": "code",
   "execution_count": 118,
   "metadata": {
    "collapsed": false
   },
   "outputs": [
    {
     "name": "stdout",
     "output_type": "stream",
     "text": [
      "adams-amy National\n",
      "adams-amy National\n",
      "adams-amy National\n",
      "adams-amy National\n",
      "adams-amy National\n",
      "adams-amy National\n",
      "adams-amy National\n",
      "adams-amy National\n",
      "adams-amy National\n",
      "adams-amy National\n"
     ]
    }
   ],
   "source": [
    "for i in range(0,10,1):\n",
    "    print mps[i], mp_party[i]"
   ]
  },
  {
   "cell_type": "code",
   "execution_count": 139,
   "metadata": {
    "collapsed": true
   },
   "outputs": [],
   "source": [
    "topic_list = []\n",
    "\n",
    "for i in range(len(mps)):\n",
    "    list_mp = []\n",
    "    t = 0\n",
    "    for topic in [topic0, topic1, topic2, topic3, topic4, topic5, topic6, topic7, topic8, topic9, topic10, topic11, topic12, topic13, topic14, topic15, topic16, topic17, topic18, topic19, topic20, topic21, topic22, topic23, topic24, topic25, topic26, topic27, topic28, topic29]:\n",
    "        if topic[i] > 0.15:\n",
    "            list_mp.append(str(t))\n",
    "        t += 1\n",
    "    topic_list.append(list_mp)\n",
    "            "
   ]
  },
  {
   "cell_type": "code",
   "execution_count": 140,
   "metadata": {
    "collapsed": false
   },
   "outputs": [
    {
     "name": "stdout",
     "output_type": "stream",
     "text": [
      "2097\n"
     ]
    }
   ],
   "source": [
    "print len(topic_list)"
   ]
  },
  {
   "cell_type": "code",
   "execution_count": 141,
   "metadata": {
    "collapsed": false
   },
   "outputs": [
    {
     "name": "stdout",
     "output_type": "stream",
     "text": [
      "['7']\n",
      "['2', '27', '29']\n",
      "['6', '27', '29']\n",
      "['14', '29']\n",
      "['8', '25', '29']\n",
      "['19']\n",
      "['7', '29']\n",
      "['14', '27', '29']\n",
      "['2']\n",
      "['25', '29']\n"
     ]
    }
   ],
   "source": [
    "for i in range(10):\n",
    "    print topic_list[i]"
   ]
  },
  {
   "cell_type": "code",
   "execution_count": 223,
   "metadata": {
    "collapsed": false
   },
   "outputs": [],
   "source": [
    "#create network with four war types, with type of war as attribute\n",
    "def create_network(mps, topic_list, mp_party, terms, years, term=None, year=None):\n",
    "\n",
    "    t0 = time.time()\n",
    "    \n",
    "    #CREATE NETWORK\n",
    "    B = nx.Graph()\n",
    "    #for i in range(len(war_extra)):\n",
    "        #B.add_node(war_extra[i], bipartite=0, kind='extra_state')\n",
    "        #B.add_node(state_extra[i], bipartite=1)\n",
    "        #B.add_edge(war_extra[i],state_extra[i])\n",
    "    \n",
    "    if year == None and term == None:\n",
    "        for i in range(len(mps)):\n",
    "            B.add_node(mps[i], bipartite=1, party=mp_party[i], presence=mp_presence[i])\n",
    "            for topic in topic_list[i]:\n",
    "                B.add_node(topic, bipartite=0)\n",
    "                B.add_edge(mps[i],topic)\n",
    "                \n",
    "    else:\n",
    "        if year == None:\n",
    "            for i in range(len(mps)):\n",
    "                if terms[i] == term:\n",
    "                    B.add_node(mps[i], bipartite=1, party=mp_party[i], presence=mp_presence[i])\n",
    "                    for topic in topic_list[i]:\n",
    "                        B.add_node(topic, bipartite=0)\n",
    "                        B.add_edge(mps[i],topic)\n",
    "                        \n",
    "        else:\n",
    "            for i in range(len(mps)):\n",
    "                if years[i] == year:\n",
    "                    B.add_node(mps[i], bipartite=1, party=mp_party[i], presence=mp_presence[i])\n",
    "                    for topic in topic_list[i]:\n",
    "                        B.add_node(topic, bipartite=0)\n",
    "                        B.add_edge(mps[i],topic)           \n",
    "            \n",
    "        \n",
    "    #for i in range(len(war_intra)):\n",
    "        #B.add_node(war_intra[i], bipartite=0, kind='intra_state')\n",
    "        #B.add_node(state_intra[i], bipartite=1)\n",
    "        #B.add_edge(war_intra[i],state_intra[i])\n",
    "        \n",
    "    #for i in range(len(war_non)):\n",
    "        #B.add_node(war_non[i], bipartite=0, kind='non_state')\n",
    "        #B.add_node(entity_non[i], bipartite=1)\n",
    "        #B.add_edge(war_non[i],entity_non[i])\n",
    "\n",
    "    print 'Running time to create network: ' + str(time.time() - t0)\n",
    "    \n",
    "    return B"
   ]
  },
  {
   "cell_type": "code",
   "execution_count": 143,
   "metadata": {
    "collapsed": false
   },
   "outputs": [
    {
     "name": "stdout",
     "output_type": "stream",
     "text": [
      "Running time to create network: 0.0407841205597\n"
     ]
    }
   ],
   "source": [
    "B = create_network(mps, topic_list, mp_party, years)"
   ]
  },
  {
   "cell_type": "code",
   "execution_count": 144,
   "metadata": {
    "collapsed": false
   },
   "outputs": [
    {
     "name": "stdout",
     "output_type": "stream",
     "text": [
      "7\n"
     ]
    }
   ],
   "source": [
    "for topic in topic_list[0]:\n",
    "    print topic"
   ]
  },
  {
   "cell_type": "code",
   "execution_count": 145,
   "metadata": {
    "collapsed": true
   },
   "outputs": [],
   "source": [
    "def create_bottom_projection(B):\n",
    "\n",
    "    t0 = time.time()\n",
    "    \n",
    "    #BIPARTITE NETWORK\n",
    "    top_nodes = set(node for node,d in B.nodes(data=True) if d['bipartite']==0) #dlist\n",
    "    bottom_nodes = set(B) - top_nodes #klist\n",
    "    #deg_top, deg_bottom = bipartite.degrees(B,bottom_nodes) #dictionary\n",
    "    \n",
    "    G_bottom = bipartite.projected_graph(B,bottom_nodes)\n",
    "\n",
    "    print 'Running time to create projection: ' + str(time.time() - t0)\n",
    "    \n",
    "    return G_bottom"
   ]
  },
  {
   "cell_type": "code",
   "execution_count": 146,
   "metadata": {
    "collapsed": true
   },
   "outputs": [],
   "source": [
    "def create_bottom_weighted_projection(B):\n",
    "\n",
    "    t0 = time.time()\n",
    "    \n",
    "    #BIPARTITE NETWORK\n",
    "    top_nodes = set(node for node,d in B.nodes(data=True) if d['bipartite']==0) #dlist\n",
    "    bottom_nodes = set(B) - top_nodes #klist\n",
    "    #deg_top, deg_bottom = bipartite.degrees(B,bottom_nodes) #dictionary\n",
    "    \n",
    "    G_bottom = bipartite.weighted_projected_graph(B,bottom_nodes)\n",
    "\n",
    "    print 'Running time to create projection: ' + str(time.time() - t0)\n",
    "    \n",
    "    return G_bottom"
   ]
  },
  {
   "cell_type": "code",
   "execution_count": 147,
   "metadata": {
    "collapsed": false
   },
   "outputs": [
    {
     "name": "stdout",
     "output_type": "stream",
     "text": [
      "Running time to create projection: 0.13621711731\n"
     ]
    }
   ],
   "source": [
    "G_bottom = create_bottom_projection(B)"
   ]
  },
  {
   "cell_type": "code",
   "execution_count": 148,
   "metadata": {
    "collapsed": false
   },
   "outputs": [
    {
     "name": "stdout",
     "output_type": "stream",
     "text": [
      "Running time to create projection: 0.163527011871\n"
     ]
    }
   ],
   "source": [
    "G_bottom_w = create_bottom_weighted_projection(B)"
   ]
  },
  {
   "cell_type": "code",
   "execution_count": 149,
   "metadata": {
    "collapsed": true
   },
   "outputs": [],
   "source": [
    "nx.write_graphml(G_bottom_w, \"mps_topics_projection_w_threshold15.graphml\")"
   ]
  },
  {
   "cell_type": "code",
   "execution_count": 150,
   "metadata": {
    "collapsed": true
   },
   "outputs": [],
   "source": [
    "top_nodes = set(node for node,d in B.nodes(data=True) if d['bipartite']==0) #dlist\n",
    "bottom_nodes = set(B) - top_nodes #klist\n",
    "deg_top, deg_bottom = bipartite.degrees(B,bottom_nodes) #dictionary"
   ]
  },
  {
   "cell_type": "code",
   "execution_count": 158,
   "metadata": {
    "collapsed": false
   },
   "outputs": [
    {
     "name": "stdout",
     "output_type": "stream",
     "text": [
      "37.3\n"
     ]
    }
   ],
   "source": [
    "av_top_degree = sum(deg_top.values())/float(len(deg_top))\n",
    "print av_top_degree"
   ]
  },
  {
   "cell_type": "code",
   "execution_count": 160,
   "metadata": {
    "collapsed": true
   },
   "outputs": [],
   "source": [
    "def bipartite_distribution(degree_dict):\n",
    "    \n",
    "    t0 = time.time()\n",
    "    \n",
    "    #Degree Distribution\n",
    "    degree_list = degree_dict.values()\n",
    "    P = []\n",
    "    for d in range(0,max(degree_list)+1,1):\n",
    "        if d in degree_list:\n",
    "            f = degree_list.count(d)\n",
    "            P.append(f)\n",
    "        else:\n",
    "            P.append(0)\n",
    "            \n",
    "    PDF = []\n",
    "    CCDF = []\n",
    "    for i, d in enumerate(P):\n",
    "        PDF.append(float(d)/sum(P))\n",
    "        CCDF.append(sum(P[i:])/float(sum(P)))\n",
    "        \n",
    "    print 'Running time to create distribution: ' + str(time.time() - t0)\n",
    "        \n",
    "    return CCDF, PDF"
   ]
  },
  {
   "cell_type": "code",
   "execution_count": 161,
   "metadata": {
    "collapsed": true
   },
   "outputs": [],
   "source": [
    "def projection_distribution(G):\n",
    "    \n",
    "    t0 = time.time()\n",
    "    \n",
    "    #Projection distribution\n",
    "    degree_hist = nx.degree_histogram(G)\n",
    "    q_list = []\n",
    "    Pq = []\n",
    "    for degree, num_of_nodes in enumerate(degree_hist):\n",
    "        q_list.append(degree)\n",
    "        Pq.append(num_of_nodes)\n",
    "        \n",
    "    PDF = []\n",
    "    CCDF = []\n",
    "    for i,q in enumerate(Pq):\n",
    "        PDF.append(float(q)/sum(Pq))\n",
    "        CCDF.append(sum(Pq[i:])/float(sum(Pq)))\n",
    "        \n",
    "    print 'Running time to create distribution: ' + str(time.time() - t0)  \n",
    "    \n",
    "    return CCDF, PDF"
   ]
  },
  {
   "cell_type": "code",
   "execution_count": 184,
   "metadata": {
    "collapsed": false
   },
   "outputs": [
    {
     "name": "stdout",
     "output_type": "stream",
     "text": [
      "Running time to create distribution: 0.000756978988647\n",
      "Running time to create distribution: 0.000154972076416\n",
      "Running time to create distribution: 0.00252795219421\n"
     ]
    }
   ],
   "source": [
    "#calling PDF and CCDF from bipartite set\n",
    "Pd_CCDF, Pd_PDF = bipartite_distribution(deg_top)\n",
    "Pk_CCDF, Pk_PDF = bipartite_distribution(deg_bottom)\n",
    "#calling PDF and CCDF from projections (simple)\n",
    "Pq_CCDF, Pq_PDF = projection_distribution(G_bottom)"
   ]
  },
  {
   "cell_type": "code",
   "execution_count": 163,
   "metadata": {
    "collapsed": false
   },
   "outputs": [
    {
     "name": "stdout",
     "output_type": "stream",
     "text": [
      "[0.0, 0.0, 0.0, 0.0, 0.0, 0.03333333333333333, 0.0, 0.0, 0.0, 0.0, 0.0, 0.0, 0.0, 0.03333333333333333, 0.0, 0.0, 0.0, 0.0, 0.0, 0.1, 0.03333333333333333, 0.06666666666666667, 0.06666666666666667, 0.0, 0.03333333333333333, 0.0, 0.0, 0.03333333333333333, 0.06666666666666667, 0.0, 0.0, 0.03333333333333333, 0.03333333333333333, 0.0, 0.03333333333333333, 0.03333333333333333, 0.03333333333333333, 0.03333333333333333, 0.03333333333333333, 0.03333333333333333, 0.0, 0.03333333333333333, 0.0, 0.0, 0.0, 0.03333333333333333, 0.0, 0.0, 0.03333333333333333, 0.0, 0.0, 0.0, 0.0, 0.0, 0.0, 0.0, 0.0, 0.0, 0.03333333333333333, 0.0, 0.03333333333333333, 0.0, 0.0, 0.0, 0.0, 0.0, 0.0, 0.0, 0.0, 0.0, 0.0, 0.0, 0.0, 0.0, 0.0, 0.0, 0.0, 0.0, 0.0, 0.0, 0.0, 0.0, 0.03333333333333333, 0.0, 0.0, 0.0, 0.0, 0.0, 0.0, 0.0, 0.0, 0.0, 0.0, 0.0, 0.0, 0.0, 0.03333333333333333, 0.0, 0.0, 0.0, 0.0, 0.0, 0.0, 0.0, 0.0, 0.0, 0.0, 0.0, 0.0, 0.0, 0.0, 0.0, 0.0, 0.0, 0.0, 0.0, 0.0, 0.0, 0.0, 0.03333333333333333]\n"
     ]
    }
   ],
   "source": [
    "print Pd_PDF"
   ]
  },
  {
   "cell_type": "code",
   "execution_count": 164,
   "metadata": {
    "collapsed": false
   },
   "outputs": [
    {
     "name": "stdout",
     "output_type": "stream",
     "text": [
      "120\n"
     ]
    }
   ],
   "source": [
    "print len(Pd_PDF)"
   ]
  },
  {
   "cell_type": "code",
   "execution_count": 186,
   "metadata": {
    "collapsed": false
   },
   "outputs": [],
   "source": [
    "Degree_d = list(range(len(Pd_PDF)))\n",
    "Degree_q = list(range(len(Pq_PDF)))"
   ]
  },
  {
   "cell_type": "code",
   "execution_count": 189,
   "metadata": {
    "collapsed": false
   },
   "outputs": [],
   "source": [
    "plt.plot(Degree_q, Pq_CCDF,'ro')\n",
    "plt.ylabel('CCDF')\n",
    "plt.xlabel('Degree')\n",
    "plt.show()"
   ]
  },
  {
   "cell_type": "code",
   "execution_count": 175,
   "metadata": {
    "collapsed": false
   },
   "outputs": [
    {
     "name": "stdout",
     "output_type": "stream",
     "text": [
      "[('4', 5), ('11', 13), ('24', 19), ('22', 19), ('12', 19), ('25', 20), ('1', 21), ('3', 21), ('21', 22), ('18', 22), ('17', 24), ('14', 27), ('20', 28), ('13', 28), ('28', 31), ('6', 32), ('26', 34), ('2', 35), ('15', 36), ('16', 37), ('23', 38), ('10', 39), ('7', 41), ('9', 45), ('0', 48), ('5', 58), ('8', 60), ('29', 82), ('27', 96), ('19', 119)]\n"
     ]
    }
   ],
   "source": [
    "sorted_deg_top = sorted(deg_top.items(), key=operator.itemgetter(1))\n",
    "print sorted_deg_top"
   ]
  },
  {
   "cell_type": "code",
   "execution_count": 190,
   "metadata": {
    "collapsed": true
   },
   "outputs": [],
   "source": [
    "plt.hist(deg_top.values(),bins=10)\n",
    "plt.show()"
   ]
  },
  {
   "cell_type": "code",
   "execution_count": 211,
   "metadata": {
    "collapsed": false
   },
   "outputs": [
    {
     "name": "stdout",
     "output_type": "stream",
     "text": [
      "Running time to create network: 0.00133800506592\n"
     ]
    }
   ],
   "source": [
    "B2003 = create_network(mps, topic_list, mp_party, years, '2003')"
   ]
  },
  {
   "cell_type": "code",
   "execution_count": 212,
   "metadata": {
    "collapsed": false
   },
   "outputs": [
    {
     "name": "stdout",
     "output_type": "stream",
     "text": [
      "Running time to create projection: 0.00944399833679\n"
     ]
    }
   ],
   "source": [
    "G_bottom_w2003 = create_bottom_weighted_projection(B2003)"
   ]
  },
  {
   "cell_type": "code",
   "execution_count": 213,
   "metadata": {
    "collapsed": true
   },
   "outputs": [],
   "source": [
    "nx.write_graphml(G_bottom_w2003, \"mps_topics_projection_w_threshold15_2003.graphml\")"
   ]
  },
  {
   "cell_type": "code",
   "execution_count": 226,
   "metadata": {
    "collapsed": false
   },
   "outputs": [
    {
     "name": "stdout",
     "output_type": "stream",
     "text": [
      "Running time to create network: 0.0181930065155\n",
      "Running time to create projection: 0.0321979522705\n"
     ]
    }
   ],
   "source": [
    "B48 = create_network(mps, topic_list, mp_party, terms, years, '48', year=None)\n",
    "G_bottom_w48 = create_bottom_weighted_projection(B48)\n",
    "nx.write_graphml(G_bottom_w48, \"mps_topics_projection_w_threshold15_48.graphml\")\n",
    "\n",
    "top_nodes = set(node for node,d in B48.nodes(data=True) if d['bipartite']==0) #dlist\n",
    "bottom_nodes = set(B48) - top_nodes #klist\n",
    "deg_top, deg_bottom = bipartite.degrees(B48,bottom_nodes) #dictionary"
   ]
  },
  {
   "cell_type": "code",
   "execution_count": 228,
   "metadata": {
    "collapsed": false
   },
   "outputs": [
    {
     "name": "stdout",
     "output_type": "stream",
     "text": [
      "12.8965517241\n",
      "2.94488188976\n"
     ]
    }
   ],
   "source": [
    "av_deg_top = sum(deg_top.values())/float(len(deg_top))\n",
    "print av_deg_top\n",
    "\n",
    "av_deg_bottom = sum(deg_bottom.values())/float(len(deg_bottom))\n",
    "print av_deg_bottom"
   ]
  },
  {
   "cell_type": "code",
   "execution_count": 229,
   "metadata": {
    "collapsed": false
   },
   "outputs": [
    {
     "name": "stdout",
     "output_type": "stream",
     "text": [
      "[('25', 1), ('11', 1), ('14', 1), ('2', 3), ('10', 3), ('1', 4), ('24', 5), ('22', 5), ('0', 5), ('4', 5), ('26', 8), ('3', 8), ('18', 8), ('29', 9), ('12', 9), ('21', 11), ('17', 11), ('23', 12), ('13', 12), ('28', 14), ('6', 14), ('7', 16), ('15', 16), ('16', 16), ('5', 18), ('8', 34), ('9', 35), ('27', 44), ('19', 46)]\n"
     ]
    }
   ],
   "source": [
    "sorted_deg_top = sorted(deg_top.items(), key=operator.itemgetter(1))\n",
    "print sorted_deg_top"
   ]
  },
  {
   "cell_type": "code",
   "execution_count": null,
   "metadata": {
    "collapsed": true
   },
   "outputs": [],
   "source": []
  }
 ],
 "metadata": {
  "kernelspec": {
   "display_name": "Python [Root]",
   "language": "python",
   "name": "Python [Root]"
  },
  "language_info": {
   "codemirror_mode": {
    "name": "ipython",
    "version": 2
   },
   "file_extension": ".py",
   "mimetype": "text/x-python",
   "name": "python",
   "nbconvert_exporter": "python",
   "pygments_lexer": "ipython2",
   "version": "2.7.12"
  }
 },
 "nbformat": 4,
 "nbformat_minor": 0
}
